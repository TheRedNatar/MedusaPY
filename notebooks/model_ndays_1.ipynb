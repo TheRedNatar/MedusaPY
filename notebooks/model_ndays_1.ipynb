{
 "cells": [
  {
   "cell_type": "code",
   "execution_count": 2,
   "metadata": {},
   "outputs": [],
   "source": [
    "import numpy as np\n",
    "import pandas as pd\n",
    "import matplotlib.pyplot as plt"
   ]
  },
  {
   "cell_type": "code",
   "execution_count": 3,
   "metadata": {},
   "outputs": [],
   "source": [
    "import sys\n",
    "sys.path.append('..')"
   ]
  },
  {
   "cell_type": "code",
   "execution_count": 35,
   "metadata": {},
   "outputs": [],
   "source": [
    "from medusapy import medusa\n",
    "from medusapy import medusa_model"
   ]
  },
  {
   "cell_type": "code",
   "execution_count": 5,
   "metadata": {},
   "outputs": [],
   "source": [
    "import json"
   ]
  },
  {
   "cell_type": "code",
   "execution_count": 36,
   "metadata": {},
   "outputs": [],
   "source": [
    "import glob\n",
    "path2train = '../resources/train_data/*'\n",
    "train = []\n",
    "for name in glob.glob(path2train):\n",
    "    with open(name) as f:\n",
    "        train = train + json.load(f)"
   ]
  },
  {
   "cell_type": "code",
   "execution_count": 37,
   "metadata": {},
   "outputs": [],
   "source": [
    "inactive_color = \"#EF476F\"\n",
    "active_color = \"#23CE6B\""
   ]
  },
  {
   "cell_type": "code",
   "execution_count": 38,
   "metadata": {
    "tags": []
   },
   "outputs": [
    {
     "data": {
      "text/plain": [
       "dict_keys(['is_inactive?', 'labeling_dt', 'sample'])"
      ]
     },
     "execution_count": 38,
     "metadata": {},
     "output_type": "execute_result"
    }
   ],
   "source": [
    "train[0].keys()"
   ]
  },
  {
   "cell_type": "code",
   "execution_count": 39,
   "metadata": {
    "collapsed": true,
    "jupyter": {
     "outputs_hidden": true
    },
    "tags": []
   },
   "outputs": [
    {
     "data": {
      "text/plain": [
       "{'t_n_villages_with_population_decrease': 0,\n",
       " 'estimated_tribe': 3,\n",
       " 't_5_time_difference_in_days': 0,\n",
       " 't_1_new_village_conquered': 0,\n",
       " 't_7_time_difference_in_days': 0,\n",
       " 't_new_village_conquered': 0,\n",
       " 't_7_total_villages': 0,\n",
       " 't_6_has_data?': 0,\n",
       " 't_7_population_decrease': 0,\n",
       " 't_2_lost_village_destroyed': 0,\n",
       " 't_5_population_decrease': 0,\n",
       " 't_6_new_village_conquered': 0,\n",
       " 't_new_village_founded': 0,\n",
       " 't_4_lost_village_conquered': 0,\n",
       " 't_2_new_village_conquered': 0,\n",
       " 't_6_n_villages_with_population_stuck': 0,\n",
       " 'server_days_from_start': 0,\n",
       " 't_4_population_decrease': 0,\n",
       " 't_3_has_increase?': 0,\n",
       " 't_7_population_decrease_by_destroyed': 0,\n",
       " 't_5_total_villages': 0,\n",
       " 't_5_population_decrease_by_destroyed': 0,\n",
       " 't_7_has_data?': 0,\n",
       " 't_2_population_increase': 0,\n",
       " 't_6_lost_village_destroyed': 0,\n",
       " 't_2_population_decrease_by_conquered': 0,\n",
       " 't_4_population_decrease_by_destroyed': 0,\n",
       " 't_4_population_increase_by_conquered': 0,\n",
       " 't_4_has_increase?': 0,\n",
       " 't_3_population_decrease': 0,\n",
       " 't_7_n_villages_with_population_increase': 0,\n",
       " 't_5_population_increase': 0,\n",
       " 't_7_new_village_conquered': 0,\n",
       " 't_lost_village_destroyed': 0,\n",
       " 't_population_decrease': 0,\n",
       " 't_1_population_increase_by_conquered': 0,\n",
       " 't_5_new_village_founded': 0,\n",
       " 't_population_decrease_by_conquered': 0,\n",
       " 't_1_n_villages_with_population_stuck': 0,\n",
       " 't_4_n_villages_with_population_increase': 0,\n",
       " 't_population_decrease_by_destroyed': 0,\n",
       " 'speed': 1,\n",
       " 't_1_population_increase': 0,\n",
       " 't_3_total_villages': 0,\n",
       " 't_7_has_increase?': 0,\n",
       " 't_2_lost_village_conquered': 0,\n",
       " 't_5_population_increase_by_founded': 0,\n",
       " 't_1_n_villages_with_population_increase': 0,\n",
       " 't_4_total_villages': 0,\n",
       " 't_3_time_difference_in_days': 0,\n",
       " 't_2_population_decrease': 0,\n",
       " 't_6_total_villages': 0,\n",
       " 't_2_has_data?': 0,\n",
       " 't_7_lost_village_destroyed': 0,\n",
       " 't_5_population_decrease_by_conquered': 0,\n",
       " 't_7_population_decrease_by_conquered': 0,\n",
       " 't_1_population_decrease': 0,\n",
       " 't_5_total_population': 0,\n",
       " 't_4_n_villages_with_population_stuck': 0,\n",
       " 't_6_lost_village_conquered': 0,\n",
       " 't_5_lost_village_destroyed': 0,\n",
       " 't_lost_village_conquered': 0,\n",
       " 't_7_lost_village_conquered': 0,\n",
       " 't_n_villages_with_population_stuck': 0,\n",
       " 't_2_new_village_founded': 0,\n",
       " 't_5_n_villages_with_population_increase': 0,\n",
       " 't_3_population_decrease_by_conquered': 0,\n",
       " 't_7_total_population': 0,\n",
       " 't_1_population_decrease_by_conquered': 0,\n",
       " 't_3_total_population': 0,\n",
       " 't_3_new_village_conquered': 0,\n",
       " 't_4_lost_village_destroyed': 0,\n",
       " 't_1_time_difference_in_days': 0,\n",
       " 't_7_n_villages_with_population_stuck': 0,\n",
       " 't_5_n_villages_with_population_decrease': 0,\n",
       " 't_6_n_villages_with_population_decrease': 0,\n",
       " 't_7_population_increase_by_founded': 0,\n",
       " 't_4_population_decrease_by_conquered': 0,\n",
       " 'target_dt': '2023-04-30T00:00:00.000Z',\n",
       " 't_4_new_village_conquered': 0,\n",
       " 't_1_new_village_founded': 0,\n",
       " 't_has_increase?': 0,\n",
       " 't_3_new_village_founded': 0,\n",
       " 't_2_n_villages_with_population_increase': 0,\n",
       " 't_3_n_villages_with_population_decrease': 0,\n",
       " 't_6_new_village_founded': 0,\n",
       " 't_3_lost_village_conquered': 0,\n",
       " 't_total_villages': 9,\n",
       " 't_5_population_increase_by_conquered': 0,\n",
       " 't_1_has_increase?': 0,\n",
       " 't_5_new_village_conquered': 0,\n",
       " 't_2_has_increase?': 0,\n",
       " 't_2_total_population': 0,\n",
       " 'has_alliance?': 1,\n",
       " 't_2_population_increase_by_founded': 0,\n",
       " 't_2_population_increase_by_conquered': 0,\n",
       " 't_6_population_increase_by_founded': 0,\n",
       " 't_5_lost_village_conquered': 0,\n",
       " 't_1_has_data?': 0,\n",
       " 't_6_population_decrease_by_conquered': 0,\n",
       " 't_7_n_villages_with_population_decrease': 0,\n",
       " 't_3_has_data?': 0,\n",
       " 't_1_lost_village_conquered': 0,\n",
       " 't_7_new_village_founded': 0,\n",
       " 'player_id': 'https://ts4.x1.asia.travian.com--P--997',\n",
       " 't_3_lost_village_destroyed': 0,\n",
       " 't_5_has_increase?': 0,\n",
       " 't_4_population_increase': 0,\n",
       " 't_5_has_data?': 0,\n",
       " 't_3_population_increase_by_founded': 0,\n",
       " 't_1_n_villages_with_population_decrease': 0,\n",
       " 't_4_n_villages_with_population_decrease': 0,\n",
       " 't_6_population_decrease_by_destroyed': 0,\n",
       " 't_7_population_increase_by_conquered': 0,\n",
       " 't_n_villages_with_population_increase': 0,\n",
       " 't_4_time_difference_in_days': 0,\n",
       " 't_6_population_increase_by_conquered': 0,\n",
       " 't_population_increase_by_conquered': 0,\n",
       " 't_4_has_data?': 0,\n",
       " 't_3_population_increase': 0,\n",
       " 't_4_total_population': 0,\n",
       " 't_6_total_population': 0,\n",
       " 't_5_n_villages_with_population_stuck': 0,\n",
       " 't_6_has_increase?': 0,\n",
       " 't_population_increase': 0,\n",
       " 't_7_population_increase': 0,\n",
       " 't_4_population_increase_by_founded': 0,\n",
       " 'server_id': 'https://ts4.x1.asia.travian.com',\n",
       " 't_3_population_decrease_by_destroyed': 0,\n",
       " 'has_speed?': 1,\n",
       " 't_population_increase_by_founded': 0,\n",
       " 't_3_population_increase_by_conquered': 0,\n",
       " 't_6_time_difference_in_days': 0,\n",
       " 't_1_total_population': 0,\n",
       " 't_3_n_villages_with_population_stuck': 0,\n",
       " 't_2_time_difference_in_days': 0,\n",
       " 't_2_population_decrease_by_destroyed': 0,\n",
       " 'player_days_from_start': 0,\n",
       " 't_6_population_increase': 0,\n",
       " 't_1_lost_village_destroyed': 0,\n",
       " 't_1_population_decrease_by_destroyed': 0,\n",
       " 't_1_population_increase_by_founded': 0,\n",
       " 't_total_population': 5159,\n",
       " 't_3_n_villages_with_population_increase': 0,\n",
       " 't_2_n_villages_with_population_stuck': 0,\n",
       " 't_1_total_villages': 0,\n",
       " 't_4_new_village_founded': 0,\n",
       " 't_2_n_villages_with_population_decrease': 0,\n",
       " 't_6_population_decrease': 0,\n",
       " 't_2_total_villages': 0,\n",
       " 't_6_n_villages_with_population_increase': 0}"
      ]
     },
     "execution_count": 39,
     "metadata": {},
     "output_type": "execute_result"
    }
   ],
   "source": [
    "uno = train[-1]\n",
    "uno[\"sample\"]"
   ]
  },
  {
   "cell_type": "markdown",
   "metadata": {
    "tags": []
   },
   "source": [
    "# Prepare train data"
   ]
  },
  {
   "cell_type": "markdown",
   "metadata": {
    "tags": []
   },
   "source": [
    "### Get only fe_type -> ndays_1"
   ]
  },
  {
   "cell_type": "code",
   "execution_count": 8,
   "metadata": {},
   "outputs": [],
   "source": [
    "train = [x for x in train if x[\"sample\"][\"fe_type\"] == \"ndays_1\"]"
   ]
  },
  {
   "cell_type": "code",
   "execution_count": 9,
   "metadata": {},
   "outputs": [
    {
     "data": {
      "text/plain": [
       "{'inactive_in_future': True,\n",
       " 'sample': {'fe_struct': {'center_mass_x': -107.0,\n",
       "   'center_mass_y': -9.0,\n",
       "   'date': '2022-10-03',\n",
       "   'distance_to_origin': 107.38,\n",
       "   'inactive_in_current': 'undefined',\n",
       "   'n_villages': 1,\n",
       "   'player_id': 'https://ts100.x10.europe.travian.com--P--3708',\n",
       "   'total_population': 65,\n",
       "   'tribes_summary': {'teutons': 1}},\n",
       "  'fe_type': 'ndays_1'}}"
      ]
     },
     "execution_count": 9,
     "metadata": {},
     "output_type": "execute_result"
    }
   ],
   "source": [
    "train[0]"
   ]
  },
  {
   "cell_type": "code",
   "execution_count": 14,
   "metadata": {},
   "outputs": [
    {
     "data": {
      "text/plain": [
       "688"
      ]
     },
     "execution_count": 14,
     "metadata": {},
     "output_type": "execute_result"
    }
   ],
   "source": [
    "len(train)"
   ]
  },
  {
   "cell_type": "markdown",
   "metadata": {},
   "source": [
    "### Eval distribution of target classes"
   ]
  },
  {
   "cell_type": "code",
   "execution_count": 11,
   "metadata": {},
   "outputs": [],
   "source": [
    "future_inactive, future_active = [], []\n",
    "none = [future_inactive.append(x) if x[\"inactive_in_future\"] == True else future_active.append(x) for x in train]"
   ]
  },
  {
   "cell_type": "code",
   "execution_count": 12,
   "metadata": {},
   "outputs": [
    {
     "data": {
      "image/png": "[encoded data removed]",
      "text/plain": [
       "<Figure size 640x480 with 1 Axes>"
      ]
     },
     "metadata": {},
     "output_type": "display_data"
    }
   ],
   "source": [
    "fig, ax = plt.subplots()\n",
    "\n",
    "x = [\"future_inactive\", \"future_active\"]\n",
    "y = [len(future_inactive), len(future_active)]\n",
    "perct = [len(future_inactive)/len(train), len(future_active)/len(train)]\n",
    "colors = [inactive_color, active_color]\n",
    "\n",
    "p = ax.bar(x, y, color=colors)\n",
    "ax.bar_label(p, labels=perct, label_type='center', fmt=\"%.2f%%\")\n",
    "\n",
    "ax.set_ylabel(\"Number of players\")\n",
    "ax.set_title(\"Distribution of active & inactive in train data\")\n",
    "\n",
    "plt.show()"
   ]
  },
  {
   "cell_type": "markdown",
   "metadata": {},
   "source": [
    "### Player Id frequency "
   ]
  },
  {
   "cell_type": "code",
   "execution_count": 13,
   "metadata": {},
   "outputs": [],
   "source": [
    "from collections import Counter\n",
    "ids = [x[\"sample\"][\"fe_struct\"][\"player_id\"] for x in train]\n",
    "p_id_freq = dict(Counter(ids))\n",
    "appereance = dict(Counter(p_id_freq.values()))\n",
    "items = list(appereance.items())\n",
    "items.sort()\n",
    "x, y = [], []\n",
    "none = [(x.append(i[0]), y.append(i[1])) for i in items]"
   ]
  },
  {
   "cell_type": "code",
   "execution_count": 14,
   "metadata": {},
   "outputs": [
    {
     "data": {
      "image/png": "[encoded data removed]",
      "text/plain": [
       "<Figure size 640x480 with 1 Axes>"
      ]
     },
     "metadata": {},
     "output_type": "display_data"
    }
   ],
   "source": [
    "fig, ax = plt.subplots()\n",
    "\n",
    "\n",
    "p = ax.bar(x, y)\n",
    "ax.bar_label(p, label_type='center')\n",
    "\n",
    "#ax.set_ylabel(\"Number of a player id appereance\")\n",
    "ax.set_xlabel(\"Number of samples with the same player_id\")\n",
    "ax.set_title(\"Frequency of player id repetition in samples\")\n",
    "\n",
    "plt.show()"
   ]
  },
  {
   "cell_type": "markdown",
   "metadata": {},
   "source": [
    "### Prepare the data"
   ]
  },
  {
   "cell_type": "code",
   "execution_count": 40,
   "metadata": {},
   "outputs": [],
   "source": [
    "def add_y(sample):\n",
    "    #row = sample[\"sample\"]\n",
    "    x = medusa_model.prepare_row(sample[\"sample\"])\n",
    "    x[\"y\"] = 1 if (sample[\"is_inactive?\"] == True) else 0\n",
    "    return x\n",
    "    "
   ]
  },
  {
   "cell_type": "code",
   "execution_count": 17,
   "metadata": {
    "collapsed": true,
    "jupyter": {
     "outputs_hidden": true
    },
    "tags": []
   },
   "outputs": [
    {
     "data": {
      "text/plain": [
       "{'is_inactive?': False,\n",
       " 'labeling_dt': '2023-05-01T00:00:00.000Z',\n",
       " 'sample': {'t_n_villages_with_population_decrease': 0,\n",
       "  'estimated_tribe': 5,\n",
       "  't_5_time_difference_in_days': 0,\n",
       "  't_1_new_village_conquered': 0,\n",
       "  't_7_time_difference_in_days': 0,\n",
       "  't_new_village_conquered': 0,\n",
       "  't_7_total_villages': 0,\n",
       "  't_6_has_data?': 0,\n",
       "  't_7_population_decrease': 0,\n",
       "  't_2_lost_village_destroyed': 0,\n",
       "  't_5_population_decrease': 0,\n",
       "  't_6_new_village_conquered': 0,\n",
       "  't_new_village_founded': 0,\n",
       "  't_4_lost_village_conquered': 0,\n",
       "  't_2_new_village_conquered': 0,\n",
       "  't_6_n_villages_with_population_stuck': 0,\n",
       "  'server_days_from_start': 0,\n",
       "  't_4_population_decrease': 0,\n",
       "  't_3_has_increase?': 0,\n",
       "  't_7_population_decrease_by_destroyed': 0,\n",
       "  't_5_total_villages': 0,\n",
       "  't_5_population_decrease_by_destroyed': 0,\n",
       "  't_7_has_data?': 0,\n",
       "  't_2_population_increase': 0,\n",
       "  't_6_lost_village_destroyed': 0,\n",
       "  't_2_population_decrease_by_conquered': 0,\n",
       "  't_4_population_decrease_by_destroyed': 0,\n",
       "  't_4_population_increase_by_conquered': 0,\n",
       "  't_4_has_increase?': 0,\n",
       "  't_3_population_decrease': 0,\n",
       "  't_7_n_villages_with_population_increase': 0,\n",
       "  't_5_population_increase': 0,\n",
       "  't_7_new_village_conquered': 0,\n",
       "  't_lost_village_destroyed': 0,\n",
       "  't_population_decrease': 0,\n",
       "  't_1_population_increase_by_conquered': 0,\n",
       "  't_5_new_village_founded': 0,\n",
       "  't_population_decrease_by_conquered': 0,\n",
       "  't_1_n_villages_with_population_stuck': 0,\n",
       "  't_4_n_villages_with_population_increase': 0,\n",
       "  't_population_decrease_by_destroyed': 0,\n",
       "  'speed': 1,\n",
       "  't_1_population_increase': 0,\n",
       "  't_3_total_villages': 0,\n",
       "  't_7_has_increase?': 0,\n",
       "  't_2_lost_village_conquered': 0,\n",
       "  't_5_population_increase_by_founded': 0,\n",
       "  't_1_n_villages_with_population_increase': 0,\n",
       "  't_4_total_villages': 0,\n",
       "  't_3_time_difference_in_days': 0,\n",
       "  't_2_population_decrease': 0,\n",
       "  't_6_total_villages': 0,\n",
       "  't_2_has_data?': 0,\n",
       "  't_7_lost_village_destroyed': 0,\n",
       "  't_5_population_decrease_by_conquered': 0,\n",
       "  't_7_population_decrease_by_conquered': 0,\n",
       "  't_1_population_decrease': 0,\n",
       "  't_5_total_population': 0,\n",
       "  't_4_n_villages_with_population_stuck': 0,\n",
       "  't_6_lost_village_conquered': 0,\n",
       "  't_5_lost_village_destroyed': 0,\n",
       "  't_lost_village_conquered': 0,\n",
       "  't_7_lost_village_conquered': 0,\n",
       "  't_n_villages_with_population_stuck': 0,\n",
       "  't_2_new_village_founded': 0,\n",
       "  't_5_n_villages_with_population_increase': 0,\n",
       "  't_3_population_decrease_by_conquered': 0,\n",
       "  't_7_total_population': 0,\n",
       "  't_1_population_decrease_by_conquered': 0,\n",
       "  't_3_total_population': 0,\n",
       "  't_3_new_village_conquered': 0,\n",
       "  't_4_lost_village_destroyed': 0,\n",
       "  't_1_time_difference_in_days': 0,\n",
       "  't_7_n_villages_with_population_stuck': 0,\n",
       "  't_5_n_villages_with_population_decrease': 0,\n",
       "  't_6_n_villages_with_population_decrease': 0,\n",
       "  't_7_population_increase_by_founded': 0,\n",
       "  't_4_population_decrease_by_conquered': 0,\n",
       "  'target_dt': '2023-04-30T00:00:00.000Z',\n",
       "  't_4_new_village_conquered': 0,\n",
       "  't_1_new_village_founded': 0,\n",
       "  't_has_increase?': 0,\n",
       "  't_3_new_village_founded': 0,\n",
       "  't_2_n_villages_with_population_increase': 0,\n",
       "  't_3_n_villages_with_population_decrease': 0,\n",
       "  't_6_new_village_founded': 0,\n",
       "  't_3_lost_village_conquered': 0,\n",
       "  't_total_villages': 285,\n",
       "  't_5_population_increase_by_conquered': 0,\n",
       "  't_1_has_increase?': 0,\n",
       "  't_5_new_village_conquered': 0,\n",
       "  't_2_has_increase?': 0,\n",
       "  't_2_total_population': 0,\n",
       "  'has_alliance?': 0,\n",
       "  't_2_population_increase_by_founded': 0,\n",
       "  't_2_population_increase_by_conquered': 0,\n",
       "  't_6_population_increase_by_founded': 0,\n",
       "  't_5_lost_village_conquered': 0,\n",
       "  't_1_has_data?': 0,\n",
       "  't_6_population_decrease_by_conquered': 0,\n",
       "  't_7_n_villages_with_population_decrease': 0,\n",
       "  't_3_has_data?': 0,\n",
       "  't_1_lost_village_conquered': 0,\n",
       "  't_7_new_village_founded': 0,\n",
       "  'player_id': 'https://ts4.x1.asia.travian.com--P--1',\n",
       "  't_3_lost_village_destroyed': 0,\n",
       "  't_5_has_increase?': 0,\n",
       "  't_4_population_increase': 0,\n",
       "  't_5_has_data?': 0,\n",
       "  't_3_population_increase_by_founded': 0,\n",
       "  't_1_n_villages_with_population_decrease': 0,\n",
       "  't_4_n_villages_with_population_decrease': 0,\n",
       "  't_6_population_decrease_by_destroyed': 0,\n",
       "  't_7_population_increase_by_conquered': 0,\n",
       "  't_n_villages_with_population_increase': 0,\n",
       "  't_4_time_difference_in_days': 0,\n",
       "  't_6_population_increase_by_conquered': 0,\n",
       "  't_population_increase_by_conquered': 0,\n",
       "  't_4_has_data?': 0,\n",
       "  't_3_population_increase': 0,\n",
       "  't_4_total_population': 0,\n",
       "  't_6_total_population': 0,\n",
       "  't_5_n_villages_with_population_stuck': 0,\n",
       "  't_6_has_increase?': 0,\n",
       "  't_population_increase': 0,\n",
       "  't_7_population_increase': 0,\n",
       "  't_4_population_increase_by_founded': 0,\n",
       "  'server_id': 'https://ts4.x1.asia.travian.com',\n",
       "  't_3_population_decrease_by_destroyed': 0,\n",
       "  'has_speed?': 1,\n",
       "  't_population_increase_by_founded': 0,\n",
       "  't_3_population_increase_by_conquered': 0,\n",
       "  't_6_time_difference_in_days': 0,\n",
       "  't_1_total_population': 0,\n",
       "  't_3_n_villages_with_population_stuck': 0,\n",
       "  't_2_time_difference_in_days': 0,\n",
       "  't_2_population_decrease_by_destroyed': 0,\n",
       "  'player_days_from_start': 0,\n",
       "  't_6_population_increase': 0,\n",
       "  't_1_lost_village_destroyed': 0,\n",
       "  't_1_population_decrease_by_destroyed': 0,\n",
       "  't_1_population_increase_by_founded': 0,\n",
       "  't_total_population': 63226,\n",
       "  't_3_n_villages_with_population_increase': 0,\n",
       "  't_2_n_villages_with_population_stuck': 0,\n",
       "  't_1_total_villages': 0,\n",
       "  't_4_new_village_founded': 0,\n",
       "  't_2_n_villages_with_population_decrease': 0,\n",
       "  't_6_population_decrease': 0,\n",
       "  't_2_total_villages': 0,\n",
       "  't_6_n_villages_with_population_increase': 0}}"
      ]
     },
     "execution_count": 17,
     "metadata": {},
     "output_type": "execute_result"
    }
   ],
   "source": [
    "train[0]"
   ]
  },
  {
   "cell_type": "code",
   "execution_count": 41,
   "metadata": {
    "collapsed": true,
    "jupyter": {
     "outputs_hidden": true
    },
    "tags": []
   },
   "outputs": [
    {
     "data": {
      "text/plain": [
       "{'t_n_villages_with_population_decrease': 0,\n",
       " 'estimated_tribe': 5,\n",
       " 't_5_time_difference_in_days': 0,\n",
       " 't_1_new_village_conquered': 0,\n",
       " 't_7_time_difference_in_days': 0,\n",
       " 't_new_village_conquered': 0,\n",
       " 't_7_total_villages': 0,\n",
       " 't_6_has_data?': 0,\n",
       " 't_7_population_decrease': 0,\n",
       " 't_2_lost_village_destroyed': 0,\n",
       " 't_5_population_decrease': 0,\n",
       " 't_6_new_village_conquered': 0,\n",
       " 't_new_village_founded': 0,\n",
       " 't_4_lost_village_conquered': 0,\n",
       " 't_2_new_village_conquered': 0,\n",
       " 't_6_n_villages_with_population_stuck': 0,\n",
       " 'server_days_from_start': 0,\n",
       " 't_4_population_decrease': 0,\n",
       " 't_3_has_increase?': 0,\n",
       " 't_7_population_decrease_by_destroyed': 0,\n",
       " 't_5_total_villages': 0,\n",
       " 't_5_population_decrease_by_destroyed': 0,\n",
       " 't_7_has_data?': 0,\n",
       " 't_2_population_increase': 0,\n",
       " 't_6_lost_village_destroyed': 0,\n",
       " 't_2_population_decrease_by_conquered': 0,\n",
       " 't_4_population_decrease_by_destroyed': 0,\n",
       " 't_4_population_increase_by_conquered': 0,\n",
       " 't_4_has_increase?': 0,\n",
       " 't_3_population_decrease': 0,\n",
       " 't_7_n_villages_with_population_increase': 0,\n",
       " 't_5_population_increase': 0,\n",
       " 't_7_new_village_conquered': 0,\n",
       " 't_lost_village_destroyed': 0,\n",
       " 't_population_decrease': 0,\n",
       " 't_1_population_increase_by_conquered': 0,\n",
       " 't_5_new_village_founded': 0,\n",
       " 't_population_decrease_by_conquered': 0,\n",
       " 't_1_n_villages_with_population_stuck': 0,\n",
       " 't_4_n_villages_with_population_increase': 0,\n",
       " 't_population_decrease_by_destroyed': 0,\n",
       " 'speed': 1,\n",
       " 't_1_population_increase': 0,\n",
       " 't_3_total_villages': 0,\n",
       " 't_7_has_increase?': 0,\n",
       " 't_2_lost_village_conquered': 0,\n",
       " 't_5_population_increase_by_founded': 0,\n",
       " 't_1_n_villages_with_population_increase': 0,\n",
       " 't_4_total_villages': 0,\n",
       " 't_3_time_difference_in_days': 0,\n",
       " 't_2_population_decrease': 0,\n",
       " 't_6_total_villages': 0,\n",
       " 't_2_has_data?': 0,\n",
       " 't_7_lost_village_destroyed': 0,\n",
       " 't_5_population_decrease_by_conquered': 0,\n",
       " 't_7_population_decrease_by_conquered': 0,\n",
       " 't_1_population_decrease': 0,\n",
       " 't_5_total_population': 0,\n",
       " 't_4_n_villages_with_population_stuck': 0,\n",
       " 't_6_lost_village_conquered': 0,\n",
       " 't_5_lost_village_destroyed': 0,\n",
       " 't_lost_village_conquered': 0,\n",
       " 't_7_lost_village_conquered': 0,\n",
       " 't_n_villages_with_population_stuck': 0,\n",
       " 't_2_new_village_founded': 0,\n",
       " 't_5_n_villages_with_population_increase': 0,\n",
       " 't_3_population_decrease_by_conquered': 0,\n",
       " 't_7_total_population': 0,\n",
       " 't_1_population_decrease_by_conquered': 0,\n",
       " 't_3_total_population': 0,\n",
       " 't_3_new_village_conquered': 0,\n",
       " 't_4_lost_village_destroyed': 0,\n",
       " 't_1_time_difference_in_days': 0,\n",
       " 't_7_n_villages_with_population_stuck': 0,\n",
       " 't_5_n_villages_with_population_decrease': 0,\n",
       " 't_6_n_villages_with_population_decrease': 0,\n",
       " 't_7_population_increase_by_founded': 0,\n",
       " 't_4_population_decrease_by_conquered': 0,\n",
       " 't_4_new_village_conquered': 0,\n",
       " 't_1_new_village_founded': 0,\n",
       " 't_has_increase?': 0,\n",
       " 't_3_new_village_founded': 0,\n",
       " 't_2_n_villages_with_population_increase': 0,\n",
       " 't_3_n_villages_with_population_decrease': 0,\n",
       " 't_6_new_village_founded': 0,\n",
       " 't_3_lost_village_conquered': 0,\n",
       " 't_total_villages': 285,\n",
       " 't_5_population_increase_by_conquered': 0,\n",
       " 't_1_has_increase?': 0,\n",
       " 't_5_new_village_conquered': 0,\n",
       " 't_2_has_increase?': 0,\n",
       " 't_2_total_population': 0,\n",
       " 'has_alliance?': 0,\n",
       " 't_2_population_increase_by_founded': 0,\n",
       " 't_2_population_increase_by_conquered': 0,\n",
       " 't_6_population_increase_by_founded': 0,\n",
       " 't_5_lost_village_conquered': 0,\n",
       " 't_1_has_data?': 0,\n",
       " 't_6_population_decrease_by_conquered': 0,\n",
       " 't_7_n_villages_with_population_decrease': 0,\n",
       " 't_3_has_data?': 0,\n",
       " 't_1_lost_village_conquered': 0,\n",
       " 't_7_new_village_founded': 0,\n",
       " 'player_id': 'https://ts4.x1.asia.travian.com--P--1',\n",
       " 't_3_lost_village_destroyed': 0,\n",
       " 't_5_has_increase?': 0,\n",
       " 't_4_population_increase': 0,\n",
       " 't_5_has_data?': 0,\n",
       " 't_3_population_increase_by_founded': 0,\n",
       " 't_1_n_villages_with_population_decrease': 0,\n",
       " 't_4_n_villages_with_population_decrease': 0,\n",
       " 't_6_population_decrease_by_destroyed': 0,\n",
       " 't_7_population_increase_by_conquered': 0,\n",
       " 't_n_villages_with_population_increase': 0,\n",
       " 't_4_time_difference_in_days': 0,\n",
       " 't_6_population_increase_by_conquered': 0,\n",
       " 't_population_increase_by_conquered': 0,\n",
       " 't_4_has_data?': 0,\n",
       " 't_3_population_increase': 0,\n",
       " 't_4_total_population': 0,\n",
       " 't_6_total_population': 0,\n",
       " 't_5_n_villages_with_population_stuck': 0,\n",
       " 't_6_has_increase?': 0,\n",
       " 't_population_increase': 0,\n",
       " 't_7_population_increase': 0,\n",
       " 't_4_population_increase_by_founded': 0,\n",
       " 't_3_population_decrease_by_destroyed': 0,\n",
       " 'has_speed?': 1,\n",
       " 't_population_increase_by_founded': 0,\n",
       " 't_3_population_increase_by_conquered': 0,\n",
       " 't_6_time_difference_in_days': 0,\n",
       " 't_1_total_population': 0,\n",
       " 't_3_n_villages_with_population_stuck': 0,\n",
       " 't_2_time_difference_in_days': 0,\n",
       " 't_2_population_decrease_by_destroyed': 0,\n",
       " 'player_days_from_start': 0,\n",
       " 't_6_population_increase': 0,\n",
       " 't_1_lost_village_destroyed': 0,\n",
       " 't_1_population_decrease_by_destroyed': 0,\n",
       " 't_1_population_increase_by_founded': 0,\n",
       " 't_total_population': 63226,\n",
       " 't_3_n_villages_with_population_increase': 0,\n",
       " 't_2_n_villages_with_population_stuck': 0,\n",
       " 't_1_total_villages': 0,\n",
       " 't_4_new_village_founded': 0,\n",
       " 't_2_n_villages_with_population_decrease': 0,\n",
       " 't_6_population_decrease': 0,\n",
       " 't_2_total_villages': 0,\n",
       " 't_6_n_villages_with_population_increase': 0,\n",
       " 'y': 0}"
      ]
     },
     "execution_count": 41,
     "metadata": {},
     "output_type": "execute_result"
    }
   ],
   "source": [
    "data = [add_y(x) for x in train]\n",
    "data[0]"
   ]
  },
  {
   "cell_type": "code",
   "execution_count": 42,
   "metadata": {},
   "outputs": [],
   "source": [
    "from utils import select_players"
   ]
  },
  {
   "cell_type": "code",
   "execution_count": 43,
   "metadata": {},
   "outputs": [],
   "source": [
    "included = select_players(data, 0.33)"
   ]
  },
  {
   "cell_type": "code",
   "execution_count": 44,
   "metadata": {},
   "outputs": [
    {
     "data": {
      "text/html": [
       "<div>\n",
       "<style scoped>\n",
       "    .dataframe tbody tr th:only-of-type {\n",
       "        vertical-align: middle;\n",
       "    }\n",
       "\n",
       "    .dataframe tbody tr th {\n",
       "        vertical-align: top;\n",
       "    }\n",
       "\n",
       "    .dataframe thead th {\n",
       "        text-align: right;\n",
       "    }\n",
       "</style>\n",
       "<table border=\"1\" class=\"dataframe\">\n",
       "  <thead>\n",
       "    <tr style=\"text-align: right;\">\n",
       "      <th></th>\n",
       "      <th>t_n_villages_with_population_decrease</th>\n",
       "      <th>estimated_tribe</th>\n",
       "      <th>t_5_time_difference_in_days</th>\n",
       "      <th>t_1_new_village_conquered</th>\n",
       "      <th>t_7_time_difference_in_days</th>\n",
       "      <th>t_new_village_conquered</th>\n",
       "      <th>t_7_total_villages</th>\n",
       "      <th>t_6_has_data?</th>\n",
       "      <th>t_7_population_decrease</th>\n",
       "      <th>t_2_lost_village_destroyed</th>\n",
       "      <th>...</th>\n",
       "      <th>t_total_population</th>\n",
       "      <th>t_3_n_villages_with_population_increase</th>\n",
       "      <th>t_2_n_villages_with_population_stuck</th>\n",
       "      <th>t_1_total_villages</th>\n",
       "      <th>t_4_new_village_founded</th>\n",
       "      <th>t_2_n_villages_with_population_decrease</th>\n",
       "      <th>t_6_population_decrease</th>\n",
       "      <th>t_2_total_villages</th>\n",
       "      <th>t_6_n_villages_with_population_increase</th>\n",
       "      <th>y</th>\n",
       "    </tr>\n",
       "  </thead>\n",
       "  <tbody>\n",
       "    <tr>\n",
       "      <th>0</th>\n",
       "      <td>0</td>\n",
       "      <td>5</td>\n",
       "      <td>0</td>\n",
       "      <td>0</td>\n",
       "      <td>0</td>\n",
       "      <td>0</td>\n",
       "      <td>0</td>\n",
       "      <td>0</td>\n",
       "      <td>0</td>\n",
       "      <td>0</td>\n",
       "      <td>...</td>\n",
       "      <td>63226</td>\n",
       "      <td>0</td>\n",
       "      <td>0</td>\n",
       "      <td>0</td>\n",
       "      <td>0</td>\n",
       "      <td>0</td>\n",
       "      <td>0</td>\n",
       "      <td>0</td>\n",
       "      <td>0</td>\n",
       "      <td>0</td>\n",
       "    </tr>\n",
       "  </tbody>\n",
       "</table>\n",
       "<p>1 rows × 150 columns</p>\n",
       "</div>"
      ],
      "text/plain": [
       "   t_n_villages_with_population_decrease  estimated_tribe  \\\n",
       "0                                      0                5   \n",
       "\n",
       "   t_5_time_difference_in_days  t_1_new_village_conquered  \\\n",
       "0                            0                          0   \n",
       "\n",
       "   t_7_time_difference_in_days  t_new_village_conquered  t_7_total_villages  \\\n",
       "0                            0                        0                   0   \n",
       "\n",
       "   t_6_has_data?  t_7_population_decrease  t_2_lost_village_destroyed  ...  \\\n",
       "0              0                        0                           0  ...   \n",
       "\n",
       "   t_total_population  t_3_n_villages_with_population_increase  \\\n",
       "0               63226                                        0   \n",
       "\n",
       "   t_2_n_villages_with_population_stuck  t_1_total_villages  \\\n",
       "0                                     0                   0   \n",
       "\n",
       "   t_4_new_village_founded  t_2_n_villages_with_population_decrease  \\\n",
       "0                        0                                        0   \n",
       "\n",
       "   t_6_population_decrease  t_2_total_villages  \\\n",
       "0                        0                   0   \n",
       "\n",
       "   t_6_n_villages_with_population_increase  y  \n",
       "0                                        0  0  \n",
       "\n",
       "[1 rows x 150 columns]"
      ]
     },
     "execution_count": 44,
     "metadata": {},
     "output_type": "execute_result"
    }
   ],
   "source": [
    "df = pd.DataFrame(data)\n",
    "df.head(1)"
   ]
  },
  {
   "cell_type": "code",
   "execution_count": 45,
   "metadata": {},
   "outputs": [
    {
     "data": {
      "text/plain": [
       "t_n_villages_with_population_decrease      int64\n",
       "estimated_tribe                            int64\n",
       "t_5_time_difference_in_days                int64\n",
       "t_1_new_village_conquered                  int64\n",
       "t_7_time_difference_in_days                int64\n",
       "                                           ...  \n",
       "t_2_n_villages_with_population_decrease    int64\n",
       "t_6_population_decrease                    int64\n",
       "t_2_total_villages                         int64\n",
       "t_6_n_villages_with_population_increase    int64\n",
       "y                                          int64\n",
       "Length: 150, dtype: object"
      ]
     },
     "execution_count": 45,
     "metadata": {},
     "output_type": "execute_result"
    }
   ],
   "source": [
    "df.dtypes"
   ]
  },
  {
   "cell_type": "code",
   "execution_count": 46,
   "metadata": {},
   "outputs": [],
   "source": [
    "mask = df[\"player_id\"].isin(included)\n",
    "df_test = df[mask]\n",
    "df_train = df[~mask]"
   ]
  },
  {
   "cell_type": "markdown",
   "metadata": {},
   "source": [
    "# Model fitting"
   ]
  },
  {
   "cell_type": "markdown",
   "metadata": {},
   "source": [
    "### Split sample"
   ]
  },
  {
   "cell_type": "code",
   "execution_count": 47,
   "metadata": {},
   "outputs": [],
   "source": [
    "from utils import split_x_y_pid"
   ]
  },
  {
   "cell_type": "code",
   "execution_count": 48,
   "metadata": {},
   "outputs": [],
   "source": [
    "X_train, y_train, p_id_train = split_x_y_pid(df_train)\n",
    "X_test, y_test, p_id_test = split_x_y_pid(df_test)"
   ]
  },
  {
   "cell_type": "markdown",
   "metadata": {},
   "source": [
    "### Fit"
   ]
  },
  {
   "cell_type": "code",
   "execution_count": 49,
   "metadata": {},
   "outputs": [],
   "source": [
    "from sklearn.ensemble import RandomForestClassifier\n",
    "clf = RandomForestClassifier(n_estimators=2000, max_depth=3)"
   ]
  },
  {
   "cell_type": "code",
   "execution_count": 50,
   "metadata": {},
   "outputs": [
    {
     "name": "stdout",
     "output_type": "stream",
     "text": [
      "CPU times: user 1.73 s, sys: 455 µs, total: 1.73 s\n",
      "Wall time: 1.79 s\n"
     ]
    },
    {
     "data": {
      "text/plain": [
       "RandomForestClassifier(max_depth=3, n_estimators=2000)"
      ]
     },
     "execution_count": 50,
     "metadata": {},
     "output_type": "execute_result"
    }
   ],
   "source": [
    "%%time\n",
    "clf.fit(X_train, y_train)"
   ]
  },
  {
   "cell_type": "markdown",
   "metadata": {},
   "source": [
    "### Evaluation"
   ]
  },
  {
   "cell_type": "code",
   "execution_count": 51,
   "metadata": {},
   "outputs": [
    {
     "data": {
      "text/plain": [
       "0.9166666666666666"
      ]
     },
     "execution_count": 51,
     "metadata": {},
     "output_type": "execute_result"
    }
   ],
   "source": [
    "clf.score(X_test, y_test)"
   ]
  },
  {
   "cell_type": "code",
   "execution_count": 52,
   "metadata": {},
   "outputs": [
    {
     "data": {
      "text/html": [
       "<div>\n",
       "<style scoped>\n",
       "    .dataframe tbody tr th:only-of-type {\n",
       "        vertical-align: middle;\n",
       "    }\n",
       "\n",
       "    .dataframe tbody tr th {\n",
       "        vertical-align: top;\n",
       "    }\n",
       "\n",
       "    .dataframe thead th {\n",
       "        text-align: right;\n",
       "    }\n",
       "</style>\n",
       "<table border=\"1\" class=\"dataframe\">\n",
       "  <thead>\n",
       "    <tr style=\"text-align: right;\">\n",
       "      <th></th>\n",
       "      <th>feature importance</th>\n",
       "    </tr>\n",
       "  </thead>\n",
       "  <tbody>\n",
       "    <tr>\n",
       "      <th>t_1_population_increase_by_founded</th>\n",
       "      <td>0.393470</td>\n",
       "    </tr>\n",
       "    <tr>\n",
       "      <th>t_total_villages</th>\n",
       "      <td>0.308863</td>\n",
       "    </tr>\n",
       "    <tr>\n",
       "      <th>has_alliance?</th>\n",
       "      <td>0.289413</td>\n",
       "    </tr>\n",
       "    <tr>\n",
       "      <th>estimated_tribe</th>\n",
       "      <td>0.008255</td>\n",
       "    </tr>\n",
       "    <tr>\n",
       "      <th>t_4_new_village_conquered</th>\n",
       "      <td>0.000000</td>\n",
       "    </tr>\n",
       "    <tr>\n",
       "      <th>...</th>\n",
       "      <td>...</td>\n",
       "    </tr>\n",
       "    <tr>\n",
       "      <th>t_3_time_difference_in_days</th>\n",
       "      <td>0.000000</td>\n",
       "    </tr>\n",
       "    <tr>\n",
       "      <th>t_2_population_decrease</th>\n",
       "      <td>0.000000</td>\n",
       "    </tr>\n",
       "    <tr>\n",
       "      <th>t_6_total_villages</th>\n",
       "      <td>0.000000</td>\n",
       "    </tr>\n",
       "    <tr>\n",
       "      <th>t_2_has_data?</th>\n",
       "      <td>0.000000</td>\n",
       "    </tr>\n",
       "    <tr>\n",
       "      <th>t_2_total_villages</th>\n",
       "      <td>0.000000</td>\n",
       "    </tr>\n",
       "  </tbody>\n",
       "</table>\n",
       "<p>148 rows × 1 columns</p>\n",
       "</div>"
      ],
      "text/plain": [
       "                                    feature importance\n",
       "t_1_population_increase_by_founded            0.393470\n",
       "t_total_villages                              0.308863\n",
       "has_alliance?                                 0.289413\n",
       "estimated_tribe                               0.008255\n",
       "t_4_new_village_conquered                     0.000000\n",
       "...                                                ...\n",
       "t_3_time_difference_in_days                   0.000000\n",
       "t_2_population_decrease                       0.000000\n",
       "t_6_total_villages                            0.000000\n",
       "t_2_has_data?                                 0.000000\n",
       "t_2_total_villages                            0.000000\n",
       "\n",
       "[148 rows x 1 columns]"
      ]
     },
     "execution_count": 52,
     "metadata": {},
     "output_type": "execute_result"
    }
   ],
   "source": [
    "pd.DataFrame(clf.feature_importances_, index=df.columns.to_list()[:-2], columns=[\"feature importance\"]).sort_values(\"feature importance\", ascending=False)"
   ]
  },
  {
   "cell_type": "code",
   "execution_count": 53,
   "metadata": {},
   "outputs": [
    {
     "data": {
      "image/png": "[encoded data removed]",
      "text/plain": [
       "<Figure size 640x480 with 2 Axes>"
      ]
     },
     "metadata": {},
     "output_type": "display_data"
    }
   ],
   "source": [
    "from sklearn.metrics import confusion_matrix, ConfusionMatrixDisplay\n",
    "predictions = clf.predict(X_test)\n",
    "cm = confusion_matrix(y_test, predictions, labels=clf.classes_, normalize=\"true\")\n",
    "disp = ConfusionMatrixDisplay(confusion_matrix=cm,\n",
    "                              display_labels=clf.classes_)\n",
    "_ = disp.plot()"
   ]
  },
  {
   "cell_type": "code",
   "execution_count": 54,
   "metadata": {},
   "outputs": [
    {
     "data": {
      "text/plain": [
       "<sklearn.metrics._plot.roc_curve.RocCurveDisplay at 0x7f2efe2dcfd0>"
      ]
     },
     "execution_count": 54,
     "metadata": {},
     "output_type": "execute_result"
    },
    {
     "data": {
      "image/png": "[encoded data removed]",
      "text/plain": [
       "<Figure size 640x480 with 1 Axes>"
      ]
     },
     "metadata": {},
     "output_type": "display_data"
    }
   ],
   "source": [
    "from sklearn.metrics import RocCurveDisplay\n",
    "RocCurveDisplay.from_estimator(clf, X_test, y_test)"
   ]
  },
  {
   "cell_type": "code",
   "execution_count": 55,
   "metadata": {},
   "outputs": [],
   "source": [
    "prediction = clf.predict(X_test)"
   ]
  },
  {
   "cell_type": "markdown",
   "metadata": {},
   "source": [
    "### Comparation of Active & Inactive test vs prediction"
   ]
  },
  {
   "cell_type": "code",
   "execution_count": 56,
   "metadata": {},
   "outputs": [],
   "source": [
    "tmp = pd.DataFrame(y_test).value_counts().to_dict()\n",
    "test = [tmp[(True,)], tmp[(False,)]]"
   ]
  },
  {
   "cell_type": "code",
   "execution_count": 57,
   "metadata": {},
   "outputs": [],
   "source": [
    "tmp = pd.DataFrame(prediction).value_counts().to_dict()\n",
    "pred = [tmp[(True,)], tmp[(False,)]]"
   ]
  },
  {
   "cell_type": "code",
   "execution_count": 58,
   "metadata": {},
   "outputs": [
    {
     "data": {
      "image/png": "[encoded data removed]",
      "text/plain": [
       "<Figure size 640x480 with 1 Axes>"
      ]
     },
     "metadata": {},
     "output_type": "display_data"
    }
   ],
   "source": [
    "import numpy as np\n",
    "\n",
    "pred_color = \"#D9B8C4\"\n",
    "test_color = \"#957186\"\n",
    "\n",
    "fig, ax = plt.subplots()\n",
    "\n",
    "labels = [\"future_inactive\", \"future_active\"]\n",
    "x = np.arange(len(labels))\n",
    "width = 0.2\n",
    "\n",
    "ax.bar(x - width-1, test, color=test_color)\n",
    "ax.bar(x + width+1, pred, color=pred_color)\n",
    "ax.set_xticks(x, labels)\n",
    "\n",
    "ax.set_ylabel(\"Number of players\")\n",
    "ax.set_title(\"Distribution of active & inactive in train data\")\n",
    "\n",
    "plt.show()"
   ]
  },
  {
   "cell_type": "markdown",
   "metadata": {},
   "source": [
    "# Store the model"
   ]
  },
  {
   "cell_type": "code",
   "execution_count": 61,
   "metadata": {},
   "outputs": [],
   "source": [
    "import pickle\n",
    "import datetime\n",
    "now = datetime.datetime.now()\n",
    "date_time_name = now.strftime(\"%m_%d_%Y_%H:%M:%S\")\n",
    "pickle.dump(clf, open(f\"../trained_models/medusa_model__{date_time_name}.pkl\", 'wb'))"
   ]
  },
  {
   "cell_type": "code",
   "execution_count": null,
   "metadata": {},
   "outputs": [],
   "source": []
  }
 ],
 "metadata": {
  "kernelspec": {
   "display_name": "Python 3 (ipykernel)",
   "language": "python",
   "name": "python3"
  },
  "language_info": {
   "codemirror_mode": {
    "name": "ipython",
    "version": 3
   },
   "file_extension": ".py",
   "mimetype": "text/x-python",
   "name": "python",
   "nbconvert_exporter": "python",
   "pygments_lexer": "ipython3",
   "version": "3.7.7"
  }
 },
 "nbformat": 4,
 "nbformat_minor": 4
}
